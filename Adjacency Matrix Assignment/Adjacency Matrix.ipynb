{
 "cells": [
  {
   "cell_type": "markdown",
   "metadata": {},
   "source": [
    "# Exam 1 Question 5"
   ]
  },
  {
   "cell_type": "code",
   "execution_count": 67,
   "metadata": {},
   "outputs": [],
   "source": [
    "#dictionary representation of the adjecency matrix\n",
    "adjList = { 1 : set([2, 3, 5, 6]),\n",
    "            2 : set([1, 4]),\n",
    "            3 : set([1, 5, 6]),\n",
    "            4 : set([2, 5]),\n",
    "            5 : set([1, 3, 4]),\n",
    "            6 : set([1, 3])}"
   ]
  },
  {
   "cell_type": "code",
   "execution_count": 68,
   "metadata": {},
   "outputs": [],
   "source": [
    "#method to determine if there is an edge between two nodes\n",
    "def edge(node1, node2):\n",
    "\n",
    "    #this loop traverses through all the adjacent nodes of node1\n",
    "    for node3 in adjList.get(node1):\n",
    "        \n",
    "        #if an adjacent node of of node1 is the same as node2 then there is an edge\n",
    "        if node2 == node3:\n",
    "            \n",
    "            #return true if edge exists\n",
    "            return True\n",
    "    \n",
    "    #return false if edge was not found\n",
    "    return False"
   ]
  },
  {
   "cell_type": "code",
   "execution_count": 69,
   "metadata": {},
   "outputs": [],
   "source": [
    "#method to check if the list of already found triangles contains the new triangle found\n",
    "def check_triangle_list(triangle_list, newTriangle):\n",
    "    \n",
    "    #traverse through all the found triangles\n",
    "    for x in triangle_list:\n",
    "        \n",
    "        #sort the nodes in both triangles and see if they are the same\n",
    "        if sorted(x) == sorted(newTriangle):\n",
    "            \n",
    "            #if a matching triangle is found then return true\n",
    "            return True\n",
    "    \n",
    "    #return false if no matching triangle was found\n",
    "    return False"
   ]
  },
  {
   "cell_type": "code",
   "execution_count": 70,
   "metadata": {},
   "outputs": [],
   "source": [
    "#method to find all triangles\n",
    "def get_triangle(adjList):\n",
    "\n",
    "    #list to hold all the found triangles\n",
    "    triangle_list = []\n",
    "    \n",
    "    #loop through all the nodes in the list\n",
    "    for node1 in adjList:\n",
    "        \n",
    "        #loop through all the adjacent nodes of node1\n",
    "        for node2 in adjList.get(node1):\n",
    "            \n",
    "            #loop through all nodes\n",
    "            for node3 in adjList:\n",
    "                \n",
    "                #if edges exist between all three nodes\n",
    "                if edge(node1, node3) and edge(node2, node3):\n",
    "                    \n",
    "                    #make a new list with the nodes of the triangle found\n",
    "                    new_triangle = [node1, node2, node3]\n",
    "                    \n",
    "                    #if the list of found triangles is empty just add new triangle\n",
    "                    if len(triangle_list) == 0:\n",
    "                        triangle_list.append(new_triangle)\n",
    "                        \n",
    "                    #if list of triangles is not empty check to see if the triangle already exists\n",
    "                    else:\n",
    "                        \n",
    "                        #if the triangle does not exists add to the lsit\n",
    "                        if check_triangle_list(triangle_list, new_triangle) == False:\n",
    "                            triangle_list.append(new_triangle)\n",
    "    \n",
    "    #return list of triangles found\n",
    "    return triangle_list"
   ]
  },
  {
   "cell_type": "code",
   "execution_count": 71,
   "metadata": {},
   "outputs": [
    {
     "name": "stdout",
     "output_type": "stream",
     "text": [
      "[[1, 3, 5], [1, 3, 6]]\n"
     ]
    }
   ],
   "source": [
    "#call method to find tirangles of the adjacency list\n",
    "triangles = get_triangle(adjList)\n",
    "\n",
    "#print triangles\n",
    "print(triangles)"
   ]
  }
 ],
 "metadata": {
  "kernelspec": {
   "display_name": "Python 3",
   "language": "python",
   "name": "python3"
  },
  "language_info": {
   "codemirror_mode": {
    "name": "ipython",
    "version": 3
   },
   "file_extension": ".py",
   "mimetype": "text/x-python",
   "name": "python",
   "nbconvert_exporter": "python",
   "pygments_lexer": "ipython3",
   "version": "3.7.4"
  }
 },
 "nbformat": 4,
 "nbformat_minor": 4
}
