{
 "cells": [
  {
   "cell_type": "markdown",
   "metadata": {},
   "source": [
    "# Question 3 Part D"
   ]
  },
  {
   "cell_type": "code",
   "execution_count": 1,
   "metadata": {},
   "outputs": [],
   "source": [
    "#this method adds the specified row of the array passed in\n",
    "def row_add(array, row):\n",
    "    \n",
    "    #obtain array length\n",
    "    array_length = len(array)\n",
    "    \n",
    "    #declare and initialize the varialbe containing the row sum to 0\n",
    "    row_sum = 0\n",
    "    \n",
    "    #this loop traverses through the row to add each element to row_sum\n",
    "    for x in range(array_length):\n",
    "        \n",
    "        #adds the current array index to sum\n",
    "        row_sum = row_sum + array[row][x]\n",
    "    \n",
    "    #returns sum\n",
    "    return row_sum"
   ]
  },
  {
   "cell_type": "code",
   "execution_count": 2,
   "metadata": {},
   "outputs": [],
   "source": [
    "#this method makes the D matrix needed to make the Laplacian Matrix\n",
    "def array_maker(A):\n",
    "    \n",
    "    #obtain array length\n",
    "    array_length = len(A)\n",
    "    \n",
    "    #new array of the same size of the original array set to all 0's\n",
    "    new_array = [[0 for col in range(array_length)] for row in range(array_length)]\n",
    "    \n",
    "    #traverse the indexes which are the same\n",
    "    for x in range(array_length):\n",
    "        \n",
    "        #adds the row sum to the appropriate index of the new array\n",
    "        new_array[x][x] = row_add(A, x)\n",
    "    \n",
    "    #return new array\n",
    "    return new_array"
   ]
  },
  {
   "cell_type": "code",
   "execution_count": 3,
   "metadata": {},
   "outputs": [],
   "source": [
    "#method to subtract arrays\n",
    "def sub_arrays(array1, array2):\n",
    "    \n",
    "    #get array length\n",
    "    array_length = len(array1)\n",
    "    \n",
    "    #new array of the same size of the original array set to all 0's\n",
    "    new_array = [[0 for col in range(array_length)] for row in range(array_length)]\n",
    "    \n",
    "    #array to traverse through every index of the array\n",
    "    for i in range(array_length):\n",
    "        for j in range(array_length):\n",
    "            \n",
    "            #subtract the values of each index and place result to new array index\n",
    "            new_array[i][j] = array1[i][j] - array2[i][j]\n",
    "    \n",
    "    #return new array\n",
    "    return new_array"
   ]
  },
  {
   "cell_type": "code",
   "execution_count": 4,
   "metadata": {},
   "outputs": [
    {
     "name": "stdout",
     "output_type": "stream",
     "text": [
      "Laplacian Matrix:\n",
      "\n",
      "[6, -1, -1, -1, -1, -1, -1]\n",
      "[-1, 1, 0, 0, 0, 0, 0]\n",
      "[-1, 0, 1, 0, 0, 0, 0]\n",
      "[-1, 0, 0, 1, 0, 0, 0]\n",
      "[-1, 0, 0, 0, 1, 0, 0]\n",
      "[-1, 0, 0, 0, 0, 1, 0]\n",
      "[-1, 0, 0, 0, 0, 0, 1]\n"
     ]
    }
   ],
   "source": [
    "#adjacency matrix\n",
    "A = [[0, 1, 1, 1, 1, 1, 1],\n",
    "     [1, 0, 0, 0, 0, 0, 0],\n",
    "     [1, 0, 0, 0, 0, 0, 0],\n",
    "     [1, 0, 0, 0, 0, 0, 0],\n",
    "     [1, 0, 0, 0, 0, 0, 0],\n",
    "     [1, 0, 0, 0, 0, 0, 0],\n",
    "     [1, 0, 0, 0, 0, 0, 0]]\n",
    "\n",
    "#d matrix\n",
    "D = array_maker(A)\n",
    "\n",
    "#laplacian matrix\n",
    "L = sub_arrays(D, A)\n",
    "\n",
    "#print laplacian matrix\n",
    "print(\"Laplacian Matrix:\\n\")\n",
    "for x in range(len(A)):\n",
    "    print(L[x])"
   ]
  },
  {
   "cell_type": "code",
   "execution_count": null,
   "metadata": {},
   "outputs": [],
   "source": []
  }
 ],
 "metadata": {
  "kernelspec": {
   "display_name": "Python 3",
   "language": "python",
   "name": "python3"
  },
  "language_info": {
   "codemirror_mode": {
    "name": "ipython",
    "version": 3
   },
   "file_extension": ".py",
   "mimetype": "text/x-python",
   "name": "python",
   "nbconvert_exporter": "python",
   "pygments_lexer": "ipython3",
   "version": "3.7.4"
  }
 },
 "nbformat": 4,
 "nbformat_minor": 4
}
